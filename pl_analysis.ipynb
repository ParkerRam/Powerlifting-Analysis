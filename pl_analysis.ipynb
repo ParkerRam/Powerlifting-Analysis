{
 "cells": [
  {
   "cell_type": "markdown",
   "metadata": {},
   "source": [
    "## Introduction\n",
    "\n",
    "Powerlifting is a strength sport that consists of three attempts at maximal weight on three lifts: squat, bench press, and deadlift. As in the sport of Olympic weightlifting, it involves the athlete attempting a maximal weight single lift of a barbell loaded with weight plates. Powerlifting evolved from a sport known as \"odd lifts\", which followed the same three-attempt format but used a wider variety of events, akin to strongman competition. Eventually odd lifts became standardized to the current three.\n",
    "\n",
    "In competition, lifts may be performed equipped or un-equipped (typically referred to as 'raw' lifting or 'classic' in the IPF specifically). Equipment in this context refers to a supportive bench shirt or squat/deadlift suit or briefs. In some federations, knee wraps are permitted in the equipped but not un-equipped division; in others, they may be used in both equipped and un-equipped lifting. Weight belts, knee sleeves, wrist wraps and special footwear may also be used, but are not considered when distinguishing equipped from un-equipped lifting.\n",
    "\n",
    "Competitions take place across the world. Powerlifting has been a Paralympic sport (bench press only) since 1984 and, under the IPF, is also a World Games sport. Local, national and international competitions have also been sanctioned by other federations operating independently of the IPF.\n",
    "\n",
    "### Inspiration\n",
    "\n",
    "I'd like to answer the following questions.\n",
    "* How has the sport progressed over the years?\n",
    "* How much of a difference does being subjected to drug testing make?\n",
    "* How much does age and gender effect weight lifted?\n",
    "\n",
    "Source: [Wikipedia](https://en.wikipedia.org/wiki/Powerlifting)\n",
    "\n",
    "Acknowledgement: [OpenPowerlifting](https://www.openpowerlifting.org/) for providing a snapshot of their database."
   ]
  },
  {
   "cell_type": "markdown",
   "metadata": {},
   "source": [
    "## 1. Imports"
   ]
  },
  {
   "cell_type": "code",
   "execution_count": 1,
   "metadata": {},
   "outputs": [],
   "source": [
    "import pandas as pd\n",
    "import numpy as np\n",
    "from matplotlib import pyplot as plt\n",
    "import seaborn as sns\n",
    "from sklearn.model_selection import train_test_split\n",
    "from sklearn import linear_model\n",
    "from sklearn.preprocessing import PolynomialFeatures\n",
    "\n",
    "pd.set_option('display.max_columns', 500)"
   ]
  },
  {
   "cell_type": "markdown",
   "metadata": {},
   "source": [
    "## 2. Reading/Preparing the Data\n",
    "\n",
    "We want your data to fit the following criteria\n",
    "* Age was included\n",
    "* Weight was included\n",
    "* Whether or not was tested is included\n",
    "* Didn't bomb\n",
    "* Wilks was included\n",
    "* Competed raw\n",
    "* Competed in full power meet (SBD)"
   ]
  },
  {
   "cell_type": "code",
   "execution_count": 2,
   "metadata": {},
   "outputs": [
    {
     "name": "stderr",
     "output_type": "stream",
     "text": [
      "/anaconda3/lib/python3.7/site-packages/IPython/core/interactiveshell.py:3020: DtypeWarning: Columns (34) have mixed types. Specify dtype option on import or set low_memory=False.\n",
      "  interactivity=interactivity, compiler=compiler, result=result)\n"
     ]
    },
    {
     "name": "stdout",
     "output_type": "stream",
     "text": [
      "(911485, 36)\n"
     ]
    },
    {
     "data": {
      "text/html": [
       "<div>\n",
       "<style scoped>\n",
       "    .dataframe tbody tr th:only-of-type {\n",
       "        vertical-align: middle;\n",
       "    }\n",
       "\n",
       "    .dataframe tbody tr th {\n",
       "        vertical-align: top;\n",
       "    }\n",
       "\n",
       "    .dataframe thead th {\n",
       "        text-align: right;\n",
       "    }\n",
       "</style>\n",
       "<table border=\"1\" class=\"dataframe\">\n",
       "  <thead>\n",
       "    <tr style=\"text-align: right;\">\n",
       "      <th></th>\n",
       "      <th>Name</th>\n",
       "      <th>Sex</th>\n",
       "      <th>Event</th>\n",
       "      <th>Equipment</th>\n",
       "      <th>Age</th>\n",
       "      <th>Division</th>\n",
       "      <th>BodyweightKg</th>\n",
       "      <th>WeightClassKg</th>\n",
       "      <th>Squat1Kg</th>\n",
       "      <th>Squat2Kg</th>\n",
       "      <th>Squat3Kg</th>\n",
       "      <th>Squat4Kg</th>\n",
       "      <th>Best3SquatKg</th>\n",
       "      <th>Bench1Kg</th>\n",
       "      <th>Bench2Kg</th>\n",
       "      <th>Bench3Kg</th>\n",
       "      <th>Bench4Kg</th>\n",
       "      <th>Best3BenchKg</th>\n",
       "      <th>Deadlift1Kg</th>\n",
       "      <th>Deadlift2Kg</th>\n",
       "      <th>Deadlift3Kg</th>\n",
       "      <th>Deadlift4Kg</th>\n",
       "      <th>Best3DeadliftKg</th>\n",
       "      <th>TotalKg</th>\n",
       "      <th>Place</th>\n",
       "      <th>Wilks</th>\n",
       "      <th>McCulloch</th>\n",
       "      <th>Tested</th>\n",
       "      <th>AgeClass</th>\n",
       "      <th>Country</th>\n",
       "      <th>Glossbrenner</th>\n",
       "      <th>Federation</th>\n",
       "      <th>Date</th>\n",
       "      <th>MeetCountry</th>\n",
       "      <th>MeetState</th>\n",
       "      <th>MeetName</th>\n",
       "    </tr>\n",
       "  </thead>\n",
       "  <tbody>\n",
       "    <tr>\n",
       "      <th>0</th>\n",
       "      <td>Angie Belk Terry</td>\n",
       "      <td>F</td>\n",
       "      <td>SBD</td>\n",
       "      <td>Wraps</td>\n",
       "      <td>47.0</td>\n",
       "      <td>Mst 45-49</td>\n",
       "      <td>59.60</td>\n",
       "      <td>60</td>\n",
       "      <td>38.56</td>\n",
       "      <td>47.63</td>\n",
       "      <td>-54.43</td>\n",
       "      <td>NaN</td>\n",
       "      <td>47.63</td>\n",
       "      <td>15.88</td>\n",
       "      <td>20.41</td>\n",
       "      <td>-24.95</td>\n",
       "      <td>NaN</td>\n",
       "      <td>20.41</td>\n",
       "      <td>61.23</td>\n",
       "      <td>70.31</td>\n",
       "      <td>-77.11</td>\n",
       "      <td>NaN</td>\n",
       "      <td>70.31</td>\n",
       "      <td>138.35</td>\n",
       "      <td>1</td>\n",
       "      <td>155.05</td>\n",
       "      <td>167.76</td>\n",
       "      <td>No</td>\n",
       "      <td>45-49</td>\n",
       "      <td>NaN</td>\n",
       "      <td>137.00</td>\n",
       "      <td>365Strong</td>\n",
       "      <td>2016-10-29</td>\n",
       "      <td>USA</td>\n",
       "      <td>NC</td>\n",
       "      <td>Junior &amp; Senior National Powerlifting Champion...</td>\n",
       "    </tr>\n",
       "    <tr>\n",
       "      <th>1</th>\n",
       "      <td>Dawn Bogart</td>\n",
       "      <td>F</td>\n",
       "      <td>SBD</td>\n",
       "      <td>Single-ply</td>\n",
       "      <td>42.0</td>\n",
       "      <td>Mst 40-44</td>\n",
       "      <td>58.51</td>\n",
       "      <td>60</td>\n",
       "      <td>120.20</td>\n",
       "      <td>136.08</td>\n",
       "      <td>142.88</td>\n",
       "      <td>NaN</td>\n",
       "      <td>142.88</td>\n",
       "      <td>88.45</td>\n",
       "      <td>95.25</td>\n",
       "      <td>-97.52</td>\n",
       "      <td>NaN</td>\n",
       "      <td>95.25</td>\n",
       "      <td>136.08</td>\n",
       "      <td>149.69</td>\n",
       "      <td>163.29</td>\n",
       "      <td>NaN</td>\n",
       "      <td>163.29</td>\n",
       "      <td>401.42</td>\n",
       "      <td>1</td>\n",
       "      <td>456.38</td>\n",
       "      <td>465.50</td>\n",
       "      <td>No</td>\n",
       "      <td>40-44</td>\n",
       "      <td>NaN</td>\n",
       "      <td>403.37</td>\n",
       "      <td>365Strong</td>\n",
       "      <td>2016-10-29</td>\n",
       "      <td>USA</td>\n",
       "      <td>NC</td>\n",
       "      <td>Junior &amp; Senior National Powerlifting Champion...</td>\n",
       "    </tr>\n",
       "    <tr>\n",
       "      <th>2</th>\n",
       "      <td>Dawn Bogart</td>\n",
       "      <td>F</td>\n",
       "      <td>SBD</td>\n",
       "      <td>Single-ply</td>\n",
       "      <td>42.0</td>\n",
       "      <td>Open Senior</td>\n",
       "      <td>58.51</td>\n",
       "      <td>60</td>\n",
       "      <td>120.20</td>\n",
       "      <td>136.08</td>\n",
       "      <td>142.88</td>\n",
       "      <td>NaN</td>\n",
       "      <td>142.88</td>\n",
       "      <td>88.45</td>\n",
       "      <td>95.25</td>\n",
       "      <td>-97.52</td>\n",
       "      <td>NaN</td>\n",
       "      <td>95.25</td>\n",
       "      <td>136.08</td>\n",
       "      <td>149.69</td>\n",
       "      <td>163.29</td>\n",
       "      <td>NaN</td>\n",
       "      <td>163.29</td>\n",
       "      <td>401.42</td>\n",
       "      <td>1</td>\n",
       "      <td>456.38</td>\n",
       "      <td>465.50</td>\n",
       "      <td>No</td>\n",
       "      <td>40-44</td>\n",
       "      <td>NaN</td>\n",
       "      <td>403.37</td>\n",
       "      <td>365Strong</td>\n",
       "      <td>2016-10-29</td>\n",
       "      <td>USA</td>\n",
       "      <td>NC</td>\n",
       "      <td>Junior &amp; Senior National Powerlifting Champion...</td>\n",
       "    </tr>\n",
       "    <tr>\n",
       "      <th>3</th>\n",
       "      <td>Dawn Bogart</td>\n",
       "      <td>F</td>\n",
       "      <td>B</td>\n",
       "      <td>Raw</td>\n",
       "      <td>42.0</td>\n",
       "      <td>Open Senior</td>\n",
       "      <td>58.51</td>\n",
       "      <td>60</td>\n",
       "      <td>NaN</td>\n",
       "      <td>NaN</td>\n",
       "      <td>NaN</td>\n",
       "      <td>NaN</td>\n",
       "      <td>NaN</td>\n",
       "      <td>88.45</td>\n",
       "      <td>95.25</td>\n",
       "      <td>-97.52</td>\n",
       "      <td>NaN</td>\n",
       "      <td>95.25</td>\n",
       "      <td>NaN</td>\n",
       "      <td>NaN</td>\n",
       "      <td>NaN</td>\n",
       "      <td>NaN</td>\n",
       "      <td>NaN</td>\n",
       "      <td>95.25</td>\n",
       "      <td>1</td>\n",
       "      <td>108.29</td>\n",
       "      <td>110.46</td>\n",
       "      <td>No</td>\n",
       "      <td>40-44</td>\n",
       "      <td>NaN</td>\n",
       "      <td>95.71</td>\n",
       "      <td>365Strong</td>\n",
       "      <td>2016-10-29</td>\n",
       "      <td>USA</td>\n",
       "      <td>NC</td>\n",
       "      <td>Junior &amp; Senior National Powerlifting Champion...</td>\n",
       "    </tr>\n",
       "    <tr>\n",
       "      <th>4</th>\n",
       "      <td>Destiny Dula</td>\n",
       "      <td>F</td>\n",
       "      <td>BD</td>\n",
       "      <td>Raw</td>\n",
       "      <td>18.0</td>\n",
       "      <td>Teen 18-19</td>\n",
       "      <td>63.68</td>\n",
       "      <td>67.5</td>\n",
       "      <td>NaN</td>\n",
       "      <td>NaN</td>\n",
       "      <td>NaN</td>\n",
       "      <td>NaN</td>\n",
       "      <td>NaN</td>\n",
       "      <td>29.48</td>\n",
       "      <td>31.75</td>\n",
       "      <td>-34.02</td>\n",
       "      <td>NaN</td>\n",
       "      <td>31.75</td>\n",
       "      <td>90.72</td>\n",
       "      <td>-97.52</td>\n",
       "      <td>NaN</td>\n",
       "      <td>NaN</td>\n",
       "      <td>90.72</td>\n",
       "      <td>122.47</td>\n",
       "      <td>1</td>\n",
       "      <td>130.47</td>\n",
       "      <td>138.29</td>\n",
       "      <td>No</td>\n",
       "      <td>18-19</td>\n",
       "      <td>NaN</td>\n",
       "      <td>115.19</td>\n",
       "      <td>365Strong</td>\n",
       "      <td>2016-10-29</td>\n",
       "      <td>USA</td>\n",
       "      <td>NC</td>\n",
       "      <td>Junior &amp; Senior National Powerlifting Champion...</td>\n",
       "    </tr>\n",
       "  </tbody>\n",
       "</table>\n",
       "</div>"
      ],
      "text/plain": [
       "               Name Sex Event   Equipment   Age     Division  BodyweightKg  \\\n",
       "0  Angie Belk Terry   F   SBD       Wraps  47.0    Mst 45-49         59.60   \n",
       "1       Dawn Bogart   F   SBD  Single-ply  42.0    Mst 40-44         58.51   \n",
       "2       Dawn Bogart   F   SBD  Single-ply  42.0  Open Senior         58.51   \n",
       "3       Dawn Bogart   F     B         Raw  42.0  Open Senior         58.51   \n",
       "4      Destiny Dula   F    BD         Raw  18.0   Teen 18-19         63.68   \n",
       "\n",
       "  WeightClassKg  Squat1Kg  Squat2Kg  Squat3Kg  Squat4Kg  Best3SquatKg  \\\n",
       "0            60     38.56     47.63    -54.43       NaN         47.63   \n",
       "1            60    120.20    136.08    142.88       NaN        142.88   \n",
       "2            60    120.20    136.08    142.88       NaN        142.88   \n",
       "3            60       NaN       NaN       NaN       NaN           NaN   \n",
       "4          67.5       NaN       NaN       NaN       NaN           NaN   \n",
       "\n",
       "   Bench1Kg  Bench2Kg  Bench3Kg  Bench4Kg  Best3BenchKg  Deadlift1Kg  \\\n",
       "0     15.88     20.41    -24.95       NaN         20.41        61.23   \n",
       "1     88.45     95.25    -97.52       NaN         95.25       136.08   \n",
       "2     88.45     95.25    -97.52       NaN         95.25       136.08   \n",
       "3     88.45     95.25    -97.52       NaN         95.25          NaN   \n",
       "4     29.48     31.75    -34.02       NaN         31.75        90.72   \n",
       "\n",
       "   Deadlift2Kg  Deadlift3Kg  Deadlift4Kg  Best3DeadliftKg  TotalKg Place  \\\n",
       "0        70.31       -77.11          NaN            70.31   138.35     1   \n",
       "1       149.69       163.29          NaN           163.29   401.42     1   \n",
       "2       149.69       163.29          NaN           163.29   401.42     1   \n",
       "3          NaN          NaN          NaN              NaN    95.25     1   \n",
       "4       -97.52          NaN          NaN            90.72   122.47     1   \n",
       "\n",
       "    Wilks  McCulloch Tested AgeClass Country  Glossbrenner Federation  \\\n",
       "0  155.05     167.76     No    45-49     NaN        137.00  365Strong   \n",
       "1  456.38     465.50     No    40-44     NaN        403.37  365Strong   \n",
       "2  456.38     465.50     No    40-44     NaN        403.37  365Strong   \n",
       "3  108.29     110.46     No    40-44     NaN         95.71  365Strong   \n",
       "4  130.47     138.29     No    18-19     NaN        115.19  365Strong   \n",
       "\n",
       "         Date MeetCountry MeetState  \\\n",
       "0  2016-10-29         USA        NC   \n",
       "1  2016-10-29         USA        NC   \n",
       "2  2016-10-29         USA        NC   \n",
       "3  2016-10-29         USA        NC   \n",
       "4  2016-10-29         USA        NC   \n",
       "\n",
       "                                            MeetName  \n",
       "0  Junior & Senior National Powerlifting Champion...  \n",
       "1  Junior & Senior National Powerlifting Champion...  \n",
       "2  Junior & Senior National Powerlifting Champion...  \n",
       "3  Junior & Senior National Powerlifting Champion...  \n",
       "4  Junior & Senior National Powerlifting Champion...  "
      ]
     },
     "execution_count": 2,
     "metadata": {},
     "output_type": "execute_result"
    }
   ],
   "source": [
    "pl = pd.read_csv(\"openpowerlifting.csv\")\n",
    "print(pl.shape)\n",
    "pl.head()"
   ]
  },
  {
   "cell_type": "markdown",
   "metadata": {},
   "source": [
    "We can see that we have quite a few irrelevant columns for the purpose of our analysis, so let's clean it up a bit. Additionally, let's filter only 'SBD' events."
   ]
  },
  {
   "cell_type": "code",
   "execution_count": 3,
   "metadata": {},
   "outputs": [
    {
     "data": {
      "text/html": [
       "<div>\n",
       "<style scoped>\n",
       "    .dataframe tbody tr th:only-of-type {\n",
       "        vertical-align: middle;\n",
       "    }\n",
       "\n",
       "    .dataframe tbody tr th {\n",
       "        vertical-align: top;\n",
       "    }\n",
       "\n",
       "    .dataframe thead th {\n",
       "        text-align: right;\n",
       "    }\n",
       "</style>\n",
       "<table border=\"1\" class=\"dataframe\">\n",
       "  <thead>\n",
       "    <tr style=\"text-align: right;\">\n",
       "      <th></th>\n",
       "      <th>Name</th>\n",
       "      <th>Sex</th>\n",
       "      <th>Event</th>\n",
       "      <th>Equipment</th>\n",
       "      <th>Age</th>\n",
       "      <th>BodyweightKg</th>\n",
       "      <th>WeightClassKg</th>\n",
       "      <th>Best3SquatKg</th>\n",
       "      <th>Best3BenchKg</th>\n",
       "      <th>Best3DeadliftKg</th>\n",
       "      <th>TotalKg</th>\n",
       "      <th>Place</th>\n",
       "      <th>Wilks</th>\n",
       "      <th>Tested</th>\n",
       "      <th>Federation</th>\n",
       "      <th>Date</th>\n",
       "      <th>MeetCountry</th>\n",
       "      <th>MeetState</th>\n",
       "    </tr>\n",
       "  </thead>\n",
       "  <tbody>\n",
       "    <tr>\n",
       "      <th>6</th>\n",
       "      <td>Maureen Clary</td>\n",
       "      <td>F</td>\n",
       "      <td>SBD</td>\n",
       "      <td>Raw</td>\n",
       "      <td>60.0</td>\n",
       "      <td>67.31</td>\n",
       "      <td>67.5</td>\n",
       "      <td>124.74</td>\n",
       "      <td>95.25</td>\n",
       "      <td>163.29</td>\n",
       "      <td>383.28</td>\n",
       "      <td>1</td>\n",
       "      <td>391.98</td>\n",
       "      <td>No</td>\n",
       "      <td>365Strong</td>\n",
       "      <td>2016-10-29</td>\n",
       "      <td>USA</td>\n",
       "      <td>NC</td>\n",
       "    </tr>\n",
       "    <tr>\n",
       "      <th>7</th>\n",
       "      <td>Maureen Clary</td>\n",
       "      <td>F</td>\n",
       "      <td>SBD</td>\n",
       "      <td>Raw</td>\n",
       "      <td>60.0</td>\n",
       "      <td>67.31</td>\n",
       "      <td>67.5</td>\n",
       "      <td>124.74</td>\n",
       "      <td>95.25</td>\n",
       "      <td>163.29</td>\n",
       "      <td>383.28</td>\n",
       "      <td>1</td>\n",
       "      <td>391.98</td>\n",
       "      <td>No</td>\n",
       "      <td>365Strong</td>\n",
       "      <td>2016-10-29</td>\n",
       "      <td>USA</td>\n",
       "      <td>NC</td>\n",
       "    </tr>\n",
       "    <tr>\n",
       "      <th>14</th>\n",
       "      <td>Danielle Ortiz</td>\n",
       "      <td>F</td>\n",
       "      <td>SBD</td>\n",
       "      <td>Raw</td>\n",
       "      <td>17.0</td>\n",
       "      <td>69.31</td>\n",
       "      <td>75</td>\n",
       "      <td>81.65</td>\n",
       "      <td>49.90</td>\n",
       "      <td>115.67</td>\n",
       "      <td>247.22</td>\n",
       "      <td>1</td>\n",
       "      <td>247.64</td>\n",
       "      <td>No</td>\n",
       "      <td>365Strong</td>\n",
       "      <td>2016-10-29</td>\n",
       "      <td>USA</td>\n",
       "      <td>NC</td>\n",
       "    </tr>\n",
       "    <tr>\n",
       "      <th>17</th>\n",
       "      <td>Emma Love</td>\n",
       "      <td>F</td>\n",
       "      <td>SBD</td>\n",
       "      <td>Raw</td>\n",
       "      <td>18.0</td>\n",
       "      <td>77.93</td>\n",
       "      <td>82.5</td>\n",
       "      <td>86.18</td>\n",
       "      <td>52.16</td>\n",
       "      <td>83.91</td>\n",
       "      <td>222.25</td>\n",
       "      <td>1</td>\n",
       "      <td>206.43</td>\n",
       "      <td>No</td>\n",
       "      <td>365Strong</td>\n",
       "      <td>2016-10-29</td>\n",
       "      <td>USA</td>\n",
       "      <td>NC</td>\n",
       "    </tr>\n",
       "    <tr>\n",
       "      <th>18</th>\n",
       "      <td>Kelly Benson</td>\n",
       "      <td>F</td>\n",
       "      <td>SBD</td>\n",
       "      <td>Raw</td>\n",
       "      <td>22.0</td>\n",
       "      <td>88.72</td>\n",
       "      <td>90</td>\n",
       "      <td>102.06</td>\n",
       "      <td>77.11</td>\n",
       "      <td>120.20</td>\n",
       "      <td>299.37</td>\n",
       "      <td>1</td>\n",
       "      <td>260.25</td>\n",
       "      <td>No</td>\n",
       "      <td>365Strong</td>\n",
       "      <td>2016-10-29</td>\n",
       "      <td>USA</td>\n",
       "      <td>NC</td>\n",
       "    </tr>\n",
       "  </tbody>\n",
       "</table>\n",
       "</div>"
      ],
      "text/plain": [
       "              Name Sex Event Equipment   Age  BodyweightKg WeightClassKg  \\\n",
       "6    Maureen Clary   F   SBD       Raw  60.0         67.31          67.5   \n",
       "7    Maureen Clary   F   SBD       Raw  60.0         67.31          67.5   \n",
       "14  Danielle Ortiz   F   SBD       Raw  17.0         69.31            75   \n",
       "17       Emma Love   F   SBD       Raw  18.0         77.93          82.5   \n",
       "18    Kelly Benson   F   SBD       Raw  22.0         88.72            90   \n",
       "\n",
       "    Best3SquatKg  Best3BenchKg  Best3DeadliftKg  TotalKg Place   Wilks Tested  \\\n",
       "6         124.74         95.25           163.29   383.28     1  391.98     No   \n",
       "7         124.74         95.25           163.29   383.28     1  391.98     No   \n",
       "14         81.65         49.90           115.67   247.22     1  247.64     No   \n",
       "17         86.18         52.16            83.91   222.25     1  206.43     No   \n",
       "18        102.06         77.11           120.20   299.37     1  260.25     No   \n",
       "\n",
       "   Federation        Date MeetCountry MeetState  \n",
       "6   365Strong  2016-10-29         USA        NC  \n",
       "7   365Strong  2016-10-29         USA        NC  \n",
       "14  365Strong  2016-10-29         USA        NC  \n",
       "17  365Strong  2016-10-29         USA        NC  \n",
       "18  365Strong  2016-10-29         USA        NC  "
      ]
     },
     "execution_count": 3,
     "metadata": {},
     "output_type": "execute_result"
    }
   ],
   "source": [
    "pl = pl.drop(['MeetName', 'Country', 'Squat1Kg', 'Squat2Kg', 'Squat3Kg', 'Squat4Kg', 'Bench1Kg', 'Bench2Kg',\n",
    "              'Bench3Kg', 'Bench4Kg', 'Deadlift1Kg', 'Deadlift2Kg', 'Deadlift3Kg', 'Deadlift4Kg', 'AgeClass', \n",
    "              'McCulloch', 'Glossbrenner', 'Division'], axis=1)\n",
    "pl = pl[pl['Event'] == 'SBD']\n",
    "pl = pl[pl['Equipment'] == 'Raw']\n",
    "pl.head()"
   ]
  },
  {
   "cell_type": "markdown",
   "metadata": {},
   "source": [
    "We'll take care of NaN values in the most important columns and mutate the date column to include just the year."
   ]
  },
  {
   "cell_type": "code",
   "execution_count": 4,
   "metadata": {},
   "outputs": [
    {
     "name": "stdout",
     "output_type": "stream",
     "text": [
      "(176436, 18)\n"
     ]
    },
    {
     "data": {
      "text/html": [
       "<div>\n",
       "<style scoped>\n",
       "    .dataframe tbody tr th:only-of-type {\n",
       "        vertical-align: middle;\n",
       "    }\n",
       "\n",
       "    .dataframe tbody tr th {\n",
       "        vertical-align: top;\n",
       "    }\n",
       "\n",
       "    .dataframe thead th {\n",
       "        text-align: right;\n",
       "    }\n",
       "</style>\n",
       "<table border=\"1\" class=\"dataframe\">\n",
       "  <thead>\n",
       "    <tr style=\"text-align: right;\">\n",
       "      <th></th>\n",
       "      <th>Name</th>\n",
       "      <th>Sex</th>\n",
       "      <th>Event</th>\n",
       "      <th>Equipment</th>\n",
       "      <th>Age</th>\n",
       "      <th>BodyweightKg</th>\n",
       "      <th>WeightClassKg</th>\n",
       "      <th>Best3SquatKg</th>\n",
       "      <th>Best3BenchKg</th>\n",
       "      <th>Best3DeadliftKg</th>\n",
       "      <th>TotalKg</th>\n",
       "      <th>Place</th>\n",
       "      <th>Wilks</th>\n",
       "      <th>Tested</th>\n",
       "      <th>Federation</th>\n",
       "      <th>MeetCountry</th>\n",
       "      <th>MeetState</th>\n",
       "      <th>Year</th>\n",
       "    </tr>\n",
       "  </thead>\n",
       "  <tbody>\n",
       "    <tr>\n",
       "      <th>6</th>\n",
       "      <td>Maureen Clary</td>\n",
       "      <td>F</td>\n",
       "      <td>SBD</td>\n",
       "      <td>Raw</td>\n",
       "      <td>60.0</td>\n",
       "      <td>67.31</td>\n",
       "      <td>67.5</td>\n",
       "      <td>124.74</td>\n",
       "      <td>95.25</td>\n",
       "      <td>163.29</td>\n",
       "      <td>383.28</td>\n",
       "      <td>1</td>\n",
       "      <td>391.98</td>\n",
       "      <td>No</td>\n",
       "      <td>365Strong</td>\n",
       "      <td>USA</td>\n",
       "      <td>NC</td>\n",
       "      <td>2016</td>\n",
       "    </tr>\n",
       "    <tr>\n",
       "      <th>7</th>\n",
       "      <td>Maureen Clary</td>\n",
       "      <td>F</td>\n",
       "      <td>SBD</td>\n",
       "      <td>Raw</td>\n",
       "      <td>60.0</td>\n",
       "      <td>67.31</td>\n",
       "      <td>67.5</td>\n",
       "      <td>124.74</td>\n",
       "      <td>95.25</td>\n",
       "      <td>163.29</td>\n",
       "      <td>383.28</td>\n",
       "      <td>1</td>\n",
       "      <td>391.98</td>\n",
       "      <td>No</td>\n",
       "      <td>365Strong</td>\n",
       "      <td>USA</td>\n",
       "      <td>NC</td>\n",
       "      <td>2016</td>\n",
       "    </tr>\n",
       "    <tr>\n",
       "      <th>14</th>\n",
       "      <td>Danielle Ortiz</td>\n",
       "      <td>F</td>\n",
       "      <td>SBD</td>\n",
       "      <td>Raw</td>\n",
       "      <td>17.0</td>\n",
       "      <td>69.31</td>\n",
       "      <td>75</td>\n",
       "      <td>81.65</td>\n",
       "      <td>49.90</td>\n",
       "      <td>115.67</td>\n",
       "      <td>247.22</td>\n",
       "      <td>1</td>\n",
       "      <td>247.64</td>\n",
       "      <td>No</td>\n",
       "      <td>365Strong</td>\n",
       "      <td>USA</td>\n",
       "      <td>NC</td>\n",
       "      <td>2016</td>\n",
       "    </tr>\n",
       "    <tr>\n",
       "      <th>17</th>\n",
       "      <td>Emma Love</td>\n",
       "      <td>F</td>\n",
       "      <td>SBD</td>\n",
       "      <td>Raw</td>\n",
       "      <td>18.0</td>\n",
       "      <td>77.93</td>\n",
       "      <td>82.5</td>\n",
       "      <td>86.18</td>\n",
       "      <td>52.16</td>\n",
       "      <td>83.91</td>\n",
       "      <td>222.25</td>\n",
       "      <td>1</td>\n",
       "      <td>206.43</td>\n",
       "      <td>No</td>\n",
       "      <td>365Strong</td>\n",
       "      <td>USA</td>\n",
       "      <td>NC</td>\n",
       "      <td>2016</td>\n",
       "    </tr>\n",
       "    <tr>\n",
       "      <th>18</th>\n",
       "      <td>Kelly Benson</td>\n",
       "      <td>F</td>\n",
       "      <td>SBD</td>\n",
       "      <td>Raw</td>\n",
       "      <td>22.0</td>\n",
       "      <td>88.72</td>\n",
       "      <td>90</td>\n",
       "      <td>102.06</td>\n",
       "      <td>77.11</td>\n",
       "      <td>120.20</td>\n",
       "      <td>299.37</td>\n",
       "      <td>1</td>\n",
       "      <td>260.25</td>\n",
       "      <td>No</td>\n",
       "      <td>365Strong</td>\n",
       "      <td>USA</td>\n",
       "      <td>NC</td>\n",
       "      <td>2016</td>\n",
       "    </tr>\n",
       "  </tbody>\n",
       "</table>\n",
       "</div>"
      ],
      "text/plain": [
       "              Name Sex Event Equipment   Age  BodyweightKg WeightClassKg  \\\n",
       "6    Maureen Clary   F   SBD       Raw  60.0         67.31          67.5   \n",
       "7    Maureen Clary   F   SBD       Raw  60.0         67.31          67.5   \n",
       "14  Danielle Ortiz   F   SBD       Raw  17.0         69.31            75   \n",
       "17       Emma Love   F   SBD       Raw  18.0         77.93          82.5   \n",
       "18    Kelly Benson   F   SBD       Raw  22.0         88.72            90   \n",
       "\n",
       "    Best3SquatKg  Best3BenchKg  Best3DeadliftKg  TotalKg Place   Wilks Tested  \\\n",
       "6         124.74         95.25           163.29   383.28     1  391.98     No   \n",
       "7         124.74         95.25           163.29   383.28     1  391.98     No   \n",
       "14         81.65         49.90           115.67   247.22     1  247.64     No   \n",
       "17         86.18         52.16            83.91   222.25     1  206.43     No   \n",
       "18        102.06         77.11           120.20   299.37     1  260.25     No   \n",
       "\n",
       "   Federation MeetCountry MeetState  Year  \n",
       "6   365Strong         USA        NC  2016  \n",
       "7   365Strong         USA        NC  2016  \n",
       "14  365Strong         USA        NC  2016  \n",
       "17  365Strong         USA        NC  2016  \n",
       "18  365Strong         USA        NC  2016  "
      ]
     },
     "execution_count": 4,
     "metadata": {},
     "output_type": "execute_result"
    }
   ],
   "source": [
    "pl = pl.dropna(subset = ['BodyweightKg', 'Best3SquatKg', 'Best3BenchKg', 'Best3DeadliftKg','TotalKg', 'Wilks', \n",
    "                         'Tested', 'Age'])\n",
    "pl['Year'] = pd.DatetimeIndex(pl['Date']).year  \n",
    "pl = pl.drop(['Date'], axis=1)\n",
    "print(pl.shape)\n",
    "pl.head()\n"
   ]
  },
  {
   "cell_type": "markdown",
   "metadata": {},
   "source": [
    "## 3. Sport Growth Analysis"
   ]
  },
  {
   "cell_type": "markdown",
   "metadata": {},
   "source": [
    "The sport is dominated by males so let's see what proportion are females and males."
   ]
  },
  {
   "cell_type": "code",
   "execution_count": 5,
   "metadata": {},
   "outputs": [
    {
     "name": "stdout",
     "output_type": "stream",
     "text": [
      "Percentage of Male lifters:  66 %\n",
      "Percentage of Female lifters:  34 %\n"
     ]
    }
   ],
   "source": [
    "print('Percentage of Male lifters: ', round(len(pl[pl['Sex']=='M'])/len(pl)*100),'%')\n",
    "print('Percentage of Female lifters: ', round(len(pl[pl['Sex']=='F'])/len(pl)*100),'%')"
   ]
  },
  {
   "cell_type": "markdown",
   "metadata": {},
   "source": [
    "Let's take a look at the growth of the sport over the years."
   ]
  },
  {
   "cell_type": "code",
   "execution_count": 6,
   "metadata": {},
   "outputs": [
    {
     "data": {
      "image/png": "[encoded data removed]",
      "text/plain": [
       "<Figure size 1440x720 with 1 Axes>"
      ]
     },
     "metadata": {
      "needs_background": "light"
     },
     "output_type": "display_data"
    }
   ],
   "source": [
    "plt.figure(figsize=(20, 10))\n",
    "sns.countplot(x='Year', data=pl, palette='Set1')\n",
    "plt.title('Number of Lifters Over Time')\n",
    "plt.ylabel('Number of Lifters', fontsize=15)\n",
    "plt.xlabel('Year', fontsize=15)\n",
    "plt.show()"
   ]
  },
  {
   "cell_type": "markdown",
   "metadata": {},
   "source": [
    "There's an obvious spike in popularity around 2012 which continues till the current year. This was around when YouTube channels such as Omarisuf, Barbell Brigade, SuperTraining Gym, etc really picked up."
   ]
  },
  {
   "cell_type": "markdown",
   "metadata": {},
   "source": [
    "## 4. Test vs. Non-tested"
   ]
  },
  {
   "cell_type": "markdown",
   "metadata": {},
   "source": [
    "First let's see the distribution of tested and non-tested lifters, we will also group by gender as this is most likely another strong confounding variable. In this context tested means the lifter is subject to drug testing but this does not necessarily mean the lifter is tested.\n",
    "\n",
    "Wilks is a point system based on the total weight lifted and the lifter's bodyweight (higher is better)."
   ]
  },
  {
   "cell_type": "code",
   "execution_count": 7,
   "metadata": {},
   "outputs": [
    {
     "name": "stdout",
     "output_type": "stream",
     "text": [
      "Yes    127923\n",
      "No      48513\n",
      "Name: Tested, dtype: int64\n"
     ]
    }
   ],
   "source": [
    "print(pl['Tested'].value_counts())"
   ]
  },
  {
   "cell_type": "code",
   "execution_count": 8,
   "metadata": {},
   "outputs": [
    {
     "data": {
      "image/png": "[encoded data removed]",
      "text/plain": [
       "<Figure size 864x864 with 2 Axes>"
      ]
     },
     "metadata": {
      "needs_background": "light"
     },
     "output_type": "display_data"
    },
    {
     "name": "stdout",
     "output_type": "stream",
     "text": [
      "MEAN \n",
      " Tested  Sex\n",
      "No      F      313.820438\n",
      "        M      362.684352\n",
      "Yes     F      314.340158\n",
      "        M      354.303991\n",
      "Name: Wilks, dtype: float64\n",
      "\n",
      "\n",
      "MEDIAN \n",
      " Tested  Sex\n",
      "No      F      311.590\n",
      "        M      363.910\n",
      "Yes     F      312.815\n",
      "        M      356.630\n",
      "Name: Wilks, dtype: float64\n",
      "\n",
      "\n",
      "MAX \n",
      " Tested  Sex\n",
      "No      F      634.84\n",
      "        M      601.50\n",
      "Yes     F      558.86\n",
      "        M      597.23\n",
      "Name: Wilks, dtype: float64\n"
     ]
    }
   ],
   "source": [
    "g = sns.FacetGrid(data=pl, hue='Tested', row='Sex', height=6, aspect=2, legend_out=True, palette=\"Set1\")\n",
    "g = g.map(plt.hist, 'Wilks', bins=20, alpha=0.6)\n",
    "plt.xlabel('Wilks',fontsize=15)\n",
    "plt.legend(loc=1, title=\"Tested\")\n",
    "plt.show()\n",
    "\n",
    "print(\"MEAN \\n\", pl.groupby(by=['Tested','Sex'])['Wilks'].mean())\n",
    "print(\"\\n\\nMEDIAN \\n\", pl.groupby(by=['Tested','Sex'])['Wilks'].median())\n",
    "print(\"\\n\\nMAX \\n\", pl.groupby(by=['Tested','Sex'])['Wilks'].max())"
   ]
  },
  {
   "cell_type": "markdown",
   "metadata": {},
   "source": [
    "Here we can see that other from amount of people in each group the two distributions are relatively the same. The mean, median and max are slightly higher for the non-tested group which may be explained by drug use. However, my suspicion is that even though a lifter competes in a non-tested federation they are most likely not using performance enhancing drugs or are simply too novice to for it to make a significant difference. Where a more significant difference may lie is in the elite lifters nearing human capabilities. Performance enhancing drugs should raise a lifters potential, so let's compare only elite level lifters while still grouping by gender. Lets take the 99th percentile of lifters."
   ]
  },
  {
   "cell_type": "code",
   "execution_count": 9,
   "metadata": {},
   "outputs": [
    {
     "data": {
      "image/png": "[encoded data removed]",
      "text/plain": [
       "<Figure size 864x864 with 2 Axes>"
      ]
     },
     "metadata": {
      "needs_background": "light"
     },
     "output_type": "display_data"
    },
    {
     "name": "stdout",
     "output_type": "stream",
     "text": [
      "MEDIAN \n",
      " Sex  Tested\n",
      "F    No        528.440\n",
      "     Yes       515.545\n",
      "M    No        517.035\n",
      "     Yes       511.850\n",
      "Name: Wilks, dtype: float64\n",
      "\n",
      "\n",
      "MEAN \n",
      " Sex  Tested\n",
      "F    No        535.549070\n",
      "     Yes       516.816731\n",
      "M    No        522.439964\n",
      "     Yes       517.116809\n",
      "Name: Wilks, dtype: float64\n",
      "\n",
      "\n",
      "MAX \n",
      " Sex  Tested\n",
      "F    No        634.84\n",
      "     Yes       558.86\n",
      "M    No        601.50\n",
      "     Yes       597.23\n",
      "Name: Wilks, dtype: float64\n"
     ]
    }
   ],
   "source": [
    "top = pl.sort_values('Wilks', ascending=False)[0:round(len(pl)*0.01)]\n",
    "n = sns.FacetGrid(data=top, hue='Tested', row='Sex', height=6, aspect=2, legend_out=True, palette=\"Set1\")\n",
    "n = n.map(plt.hist, 'Wilks', bins=10, alpha=0.6)\n",
    "plt.xlabel('Wilks',fontsize=15)\n",
    "plt.legend(loc=1, title=\"Tested\")\n",
    "plt.show()\n",
    "\n",
    "print(\"MEDIAN \\n\",top.groupby(by=['Sex','Tested'])['Wilks'].median())\n",
    "print(\"\\n\\nMEAN \\n\",top.groupby(by=['Sex','Tested'])['Wilks'].mean())\n",
    "print(\"\\n\\nMAX \\n\",top.groupby(by=['Sex','Tested'])['Wilks'].max())"
   ]
  },
  {
   "cell_type": "markdown",
   "metadata": {},
   "source": [
    "We can see some more interesting results here. There's a large gap between female tested and untested lifters with the top untested lifter 76 points ahead of the top tested lifter. Whereas in males there is much less of a gap where the top lifter in each group are nearly identical in wilks points. Additonally, we can see that for females there are similar amounts of elite lifters in both groups however there are several untested females scoring higher than the top tested female."
   ]
  },
  {
   "cell_type": "markdown",
   "metadata": {},
   "source": [
    "## 5. How Age, Gender & Bodyweight Effect Weight Lifted"
   ]
  },
  {
   "cell_type": "markdown",
   "metadata": {},
   "source": [
    "Let's first compare how age effects weight lifted while still grouping by gender."
   ]
  },
  {
   "cell_type": "code",
   "execution_count": 10,
   "metadata": {},
   "outputs": [
    {
     "data": {
      "image/png": "[encoded data removed]",
      "text/plain": [
       "<Figure size 1296x432 with 2 Axes>"
      ]
     },
     "metadata": {
      "needs_background": "light"
     },
     "output_type": "display_data"
    }
   ],
   "source": [
    "a = sns.FacetGrid(data=pl, col='Sex', height=6, aspect=1.5, palette=\"Set1\")\n",
    "a = a.map(plt.scatter, 'Age', 'TotalKg')\n",
    "plt.xlabel('Age')\n",
    "plt.ylabel('Weight Lifted (kg)')\n",
    "plt.show()"
   ]
  },
  {
   "cell_type": "markdown",
   "metadata": {},
   "source": [
    "We can see that there is an obvious peak at about age 25 with a decline after that, which makes sense in the sport of powerlifing. Most lifters will hit a peak at around 25 while they are still young but have had enough time to train then age or life starts to hit them and their lifts decrease.\n",
    "\n",
    "Let's now do the same plots with bodyweight."
   ]
  },
  {
   "cell_type": "code",
   "execution_count": 11,
   "metadata": {},
   "outputs": [
    {
     "data": {
      "image/png": "[encoded data removed]",
      "text/plain": [
       "<Figure size 1296x432 with 2 Axes>"
      ]
     },
     "metadata": {
      "needs_background": "light"
     },
     "output_type": "display_data"
    }
   ],
   "source": [
    "b = sns.FacetGrid(data=pl, col='Sex', height=6, aspect=1.5, palette=\"Set1\")\n",
    "b = b.map(plt.scatter, 'BodyweightKg', 'TotalKg')\n",
    "plt.xlabel('Bodyweight (kg)')\n",
    "plt.show()"
   ]
  },
  {
   "cell_type": "markdown",
   "metadata": {},
   "source": [
    "Again nothing too surprising here, a clear positive correlation can be seen between bodyweight and weight lifted. However there seems to be a higher slope for males compared to females. This may be because in general males can be put on more muscle mass leading to heavier lifts."
   ]
  },
  {
   "cell_type": "markdown",
   "metadata": {},
   "source": [
    "## 6. Modeling the Data"
   ]
  },
  {
   "cell_type": "markdown",
   "metadata": {},
   "source": [
    "Since wilks itself is just that formula that takes gender, bodyweight, and weight lifted let's see if we can exactly predict bodyweight using wilks, gender and weight lifted. I will also be using linear regression with a polynomial basis so we'll have to transform our X."
   ]
  },
  {
   "cell_type": "code",
   "execution_count": 37,
   "metadata": {},
   "outputs": [
    {
     "name": "stderr",
     "output_type": "stream",
     "text": [
      "/anaconda3/lib/python3.7/site-packages/pandas/core/generic.py:5890: SettingWithCopyWarning: \n",
      "A value is trying to be set on a copy of a slice from a DataFrame\n",
      "\n",
      "See the caveats in the documentation: http://pandas.pydata.org/pandas-docs/stable/indexing.html#indexing-view-versus-copy\n",
      "  self._update_inplace(new_data)\n"
     ]
    },
    {
     "name": "stdout",
     "output_type": "stream",
     "text": [
      "Training error = 2.2\n",
      "Training error = 2.0\n"
     ]
    }
   ],
   "source": [
    "X = pl[['Wilks', 'Sex', 'TotalKg']]\n",
    "X['Sex'].replace(['F','M'],[0,1],inplace=True)\n",
    "\n",
    "poly = PolynomialFeatures(degree=5)\n",
    "\n",
    "y = pl['BodyweightKg']\n",
    "\n",
    "X_train, X_test, y_train, y_test = train_test_split(poly.fit_transform(X), y, test_size=0.30, random_state=42)\n",
    "\n",
    "model = linear_model.LinearRegression()\n",
    "model.fit(X_train, y_train)\n",
    "model.score(X_train, y_train)\n",
    "\n",
    "yhat = model.predict(X_train)\n",
    "trainError = np.mean((yhat - y_train)**2)\n",
    "print(\"Training error = %.1f\" % trainError)\n",
    "\n",
    "y_test_hat = model.predict(X_test)\n",
    "testError = np.mean((y_test_hat - y_test)**2)\n",
    "print(\"Training error = %.1f\" % testError)"
   ]
  },
  {
   "cell_type": "markdown",
   "metadata": {},
   "source": [
    "We can see the model performed extremely well. I chose a degree of 5 because I know the wilks coefficient formula is actually a 5 degree polynomial. The weights also differ for males and females which could explain why our error exactly zero. Another possiblilty is the solver not finding an exact value of the weights."
   ]
  },
  {
   "cell_type": "code",
   "execution_count": null,
   "metadata": {},
   "outputs": [],
   "source": []
  }
 ],
 "metadata": {
  "kernelspec": {
   "display_name": "Python 3",
   "language": "python",
   "name": "python3"
  },
  "language_info": {
   "codemirror_mode": {
    "name": "ipython",
    "version": 3
   },
   "file_extension": ".py",
   "mimetype": "text/x-python",
   "name": "python",
   "nbconvert_exporter": "python",
   "pygments_lexer": "ipython3",
   "version": "3.7.0"
  }
 },
 "nbformat": 4,
 "nbformat_minor": 2
}
